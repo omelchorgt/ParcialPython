{
 "cells": [
  {
   "cell_type": "code",
   "execution_count": 7,
   "id": "f475a205-9c65-40a8-9f6a-62ec91cb3d18",
   "metadata": {},
   "outputs": [
    {
     "name": "stdout",
     "output_type": "stream",
     "text": [
      "\n"
     ]
    },
    {
     "name": "stdin",
     "output_type": "stream",
     "text": [
      "Presione ENTER para seguir o ingrese EXIT para salir : \n",
      "Presione ENTER para seguir o ingrese EXIT para salir : \n",
      "Presione ENTER para seguir o ingrese EXIT para salir : \n",
      "Presione ENTER para seguir o ingrese EXIT para salir : \n",
      "Presione ENTER para seguir o ingrese EXIT para salir : \n",
      "Presione ENTER para seguir o ingrese EXIT para salir : \n",
      "Presione ENTER para seguir o ingrese EXIT para salir : \n",
      "Presione ENTER para seguir o ingrese EXIT para salir : \n",
      "Presione ENTER para seguir o ingrese EXIT para salir : \n",
      "Presione ENTER para seguir o ingrese EXIT para salir : \n",
      "Presione ENTER para seguir o ingrese EXIT para salir : \n",
      "Presione ENTER para seguir o ingrese EXIT para salir : \n",
      "Presione ENTER para seguir o ingrese EXIT para salir : \n",
      "Presione ENTER para seguir o ingrese EXIT para salir : exit\n"
     ]
    },
    {
     "name": "stdout",
     "output_type": "stream",
     "text": [
      "\n",
      "Se generaron  13  codigos de los cuales 10 son validos\n",
      "\n",
      "Los  10 codigos Validos son los siguientes:\n",
      "{41: '8W9F4U5O3H9Y3T', 38: '8G7J5Z1F3V8Q6L', 37: '0K8G6X9I6O6B2A', 34: '6C8P0J5A7F5Q3Y', 33: '0I7I6M8K5L4I3P', 46: '2C5O9H9H5I8X8D', 42: '5J9L5O8F7P3L5T', 36: '6O9I7P2C4L2J6L', 35: '5U1N7G3Q8V5W6Z'} \n",
      "\n",
      "Los  3  codigos Invalidos son los siguientes:\n",
      "['2Y7K3I9X6P2Y1W', '3U8Y1X0K4K5U7H', '1L2A7S5E0P5R2P']\n"
     ]
    }
   ],
   "source": [
    "#Universidad Galileo\n",
    "#Instituto de Investigacion de Operaciones\n",
    "#Ciencia de Datos con Python\n",
    "#Examen Parcial \n",
    "#I594201\n",
    "\n",
    "#Generar códigos Alfanumericos 7 letras mayusculas 7 numeros enteros\n",
    "\n",
    "import random\n",
    "\n",
    "dic = {}\n",
    "lista = []\n",
    "contador = 0\n",
    "\n",
    "def GenCode(): \n",
    "    cadena = ''\n",
    "    total = 0\n",
    "    for i in range(1,8):\n",
    "        num = random.choice([0,1,2,3,4,5,6,7,8,9])\n",
    "        total += num\n",
    "        car = random.choice(['A','B','C','D','E','F','G','H','I','J','K','L','M','N','O','P','Q','R','S','T','U','V','W','X','Y','Z'])\n",
    "        cadena = cadena + str(num)+car\n",
    "\n",
    "    if total > 30:\n",
    "        dic[total] = cadena\n",
    "    else:\n",
    "        lista.append(cadena)\n",
    "\n",
    "print('')\n",
    "intro = input(\"Presione ENTER para seguir o ingrese EXIT para salir :\")        \n",
    "while intro.upper() != 'EXIT':\n",
    "    intro = input(\"Presione ENTER para seguir o ingrese EXIT para salir :\")        \n",
    "    GenCode()\n",
    "    contador += 1\n",
    "\n",
    "print('')\n",
    "print('Se generaron ', contador, ' codigos de los cuales', contador - len(lista), 'son validos\\n')\n",
    "print('Los ', (contador - len(lista)), 'codigos Validos son los siguientes:')\n",
    "print(dic,'\\n')\n",
    "print('Los ', len(lista) , ' codigos Invalidos son los siguientes:')\n",
    "print(lista)\n",
    "\n",
    "    \n",
    "\n",
    "\n"
   ]
  },
  {
   "cell_type": "code",
   "execution_count": null,
   "id": "c1386dc8-804b-406f-b832-547322ee7529",
   "metadata": {},
   "outputs": [],
   "source": []
  },
  {
   "cell_type": "code",
   "execution_count": null,
   "id": "c6e35fec-973e-4591-ba7d-72d7f2f6c4f9",
   "metadata": {},
   "outputs": [],
   "source": []
  },
  {
   "cell_type": "code",
   "execution_count": null,
   "id": "f0b50da9-205f-43e8-aa56-7443908cfb73",
   "metadata": {},
   "outputs": [],
   "source": []
  }
 ],
 "metadata": {
  "kernelspec": {
   "display_name": "Python 3 (ipykernel)",
   "language": "python",
   "name": "python3"
  },
  "language_info": {
   "codemirror_mode": {
    "name": "ipython",
    "version": 3
   },
   "file_extension": ".py",
   "mimetype": "text/x-python",
   "name": "python",
   "nbconvert_exporter": "python",
   "pygments_lexer": "ipython3",
   "version": "3.9.7"
  }
 },
 "nbformat": 4,
 "nbformat_minor": 5
}
